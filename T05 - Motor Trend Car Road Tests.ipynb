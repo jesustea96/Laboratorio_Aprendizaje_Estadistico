{
 "cells": [
  {
   "cell_type": "markdown",
   "id": "e5328e47",
   "metadata": {},
   "source": [
    "# T05 - Motor Trend Car Road Tests"
   ]
  },
  {
   "cell_type": "markdown",
   "id": "2aa3e50a",
   "metadata": {},
   "source": [
    "|                |   |\n",
    ":----------------|---|\n",
    "| **Nombre**     | Jesús Emmanuel Flores Cortés  |\n",
    "| **Fecha**      | 18/09/2025  |\n",
    "| **Expediente** | 751571  |"
   ]
  },
  {
   "cell_type": "markdown",
   "id": "d6644a12",
   "metadata": {},
   "source": [
    "## Librerias y df"
   ]
  },
  {
   "cell_type": "code",
   "execution_count": 32,
   "id": "a4568b5d",
   "metadata": {},
   "outputs": [],
   "source": [
    "import pandas as pd\n",
    "import numpy as np\n",
    "from sklearn.model_selection import train_test_split\n",
    "from sklearn.preprocessing import StandardScaler\n",
    "from sklearn.linear_model import Ridge, LinearRegression\n",
    "from sklearn.metrics import r2_score\n",
    "import statsmodels.api as sm"
   ]
  },
  {
   "cell_type": "code",
   "execution_count": 33,
   "id": "eebe23b3",
   "metadata": {},
   "outputs": [
    {
     "data": {
      "text/html": [
       "<div>\n",
       "<style scoped>\n",
       "    .dataframe tbody tr th:only-of-type {\n",
       "        vertical-align: middle;\n",
       "    }\n",
       "\n",
       "    .dataframe tbody tr th {\n",
       "        vertical-align: top;\n",
       "    }\n",
       "\n",
       "    .dataframe thead th {\n",
       "        text-align: right;\n",
       "    }\n",
       "</style>\n",
       "<table border=\"1\" class=\"dataframe\">\n",
       "  <thead>\n",
       "    <tr style=\"text-align: right;\">\n",
       "      <th></th>\n",
       "      <th>model</th>\n",
       "      <th>mpg</th>\n",
       "      <th>cyl</th>\n",
       "      <th>disp</th>\n",
       "      <th>hp</th>\n",
       "      <th>drat</th>\n",
       "      <th>wt</th>\n",
       "      <th>qsec</th>\n",
       "      <th>vs</th>\n",
       "      <th>am</th>\n",
       "      <th>gear</th>\n",
       "      <th>carb</th>\n",
       "    </tr>\n",
       "  </thead>\n",
       "  <tbody>\n",
       "    <tr>\n",
       "      <th>0</th>\n",
       "      <td>Mazda RX4</td>\n",
       "      <td>21.0</td>\n",
       "      <td>6</td>\n",
       "      <td>160.0</td>\n",
       "      <td>110</td>\n",
       "      <td>3.90</td>\n",
       "      <td>2.620</td>\n",
       "      <td>16.46</td>\n",
       "      <td>0</td>\n",
       "      <td>1</td>\n",
       "      <td>4</td>\n",
       "      <td>4</td>\n",
       "    </tr>\n",
       "    <tr>\n",
       "      <th>1</th>\n",
       "      <td>Mazda RX4 Wag</td>\n",
       "      <td>21.0</td>\n",
       "      <td>6</td>\n",
       "      <td>160.0</td>\n",
       "      <td>110</td>\n",
       "      <td>3.90</td>\n",
       "      <td>2.875</td>\n",
       "      <td>17.02</td>\n",
       "      <td>0</td>\n",
       "      <td>1</td>\n",
       "      <td>4</td>\n",
       "      <td>4</td>\n",
       "    </tr>\n",
       "    <tr>\n",
       "      <th>2</th>\n",
       "      <td>Datsun 710</td>\n",
       "      <td>22.8</td>\n",
       "      <td>4</td>\n",
       "      <td>108.0</td>\n",
       "      <td>93</td>\n",
       "      <td>3.85</td>\n",
       "      <td>2.320</td>\n",
       "      <td>18.61</td>\n",
       "      <td>1</td>\n",
       "      <td>1</td>\n",
       "      <td>4</td>\n",
       "      <td>1</td>\n",
       "    </tr>\n",
       "    <tr>\n",
       "      <th>3</th>\n",
       "      <td>Hornet 4 Drive</td>\n",
       "      <td>21.4</td>\n",
       "      <td>6</td>\n",
       "      <td>258.0</td>\n",
       "      <td>110</td>\n",
       "      <td>3.08</td>\n",
       "      <td>3.215</td>\n",
       "      <td>19.44</td>\n",
       "      <td>1</td>\n",
       "      <td>0</td>\n",
       "      <td>3</td>\n",
       "      <td>1</td>\n",
       "    </tr>\n",
       "    <tr>\n",
       "      <th>4</th>\n",
       "      <td>Hornet Sportabout</td>\n",
       "      <td>18.7</td>\n",
       "      <td>8</td>\n",
       "      <td>360.0</td>\n",
       "      <td>175</td>\n",
       "      <td>3.15</td>\n",
       "      <td>3.440</td>\n",
       "      <td>17.02</td>\n",
       "      <td>0</td>\n",
       "      <td>0</td>\n",
       "      <td>3</td>\n",
       "      <td>2</td>\n",
       "    </tr>\n",
       "  </tbody>\n",
       "</table>\n",
       "</div>"
      ],
      "text/plain": [
       "               model   mpg  cyl   disp   hp  drat     wt   qsec  vs  am  gear  \\\n",
       "0          Mazda RX4  21.0    6  160.0  110  3.90  2.620  16.46   0   1     4   \n",
       "1      Mazda RX4 Wag  21.0    6  160.0  110  3.90  2.875  17.02   0   1     4   \n",
       "2         Datsun 710  22.8    4  108.0   93  3.85  2.320  18.61   1   1     4   \n",
       "3     Hornet 4 Drive  21.4    6  258.0  110  3.08  3.215  19.44   1   0     3   \n",
       "4  Hornet Sportabout  18.7    8  360.0  175  3.15  3.440  17.02   0   0     3   \n",
       "\n",
       "   carb  \n",
       "0     4  \n",
       "1     4  \n",
       "2     1  \n",
       "3     1  \n",
       "4     2  "
      ]
     },
     "execution_count": 33,
     "metadata": {},
     "output_type": "execute_result"
    }
   ],
   "source": [
    "df = pd.read_excel(\"Motor Trend Car Road Tests.xlsx\")\n",
    "df.head()"
   ]
  },
  {
   "cell_type": "markdown",
   "id": "c428c4c1",
   "metadata": {},
   "source": [
    "# 1.1"
   ]
  },
  {
   "cell_type": "code",
   "execution_count": 34,
   "id": "4f7bcedc",
   "metadata": {},
   "outputs": [],
   "source": [
    "df_num = df.drop(columns=[\"model\"]).copy()  \n",
    "X = df_num.drop(columns=[\"mpg\"])\n",
    "y = df_num[\"mpg\"]\n",
    "\n",
    "scaler = StandardScaler()\n",
    "X_scaled = scaler.fit_transform(X)"
   ]
  },
  {
   "cell_type": "code",
   "execution_count": 35,
   "id": "91f01d20",
   "metadata": {},
   "outputs": [
    {
     "name": "stdout",
     "output_type": "stream",
     "text": [
      "                            OLS Regression Results                            \n",
      "==============================================================================\n",
      "Dep. Variable:                      y   R-squared:                       0.869\n",
      "Model:                            OLS   Adj. R-squared:                  0.807\n",
      "Method:                 Least Squares   F-statistic:                     13.93\n",
      "Date:                Thu, 18 Sep 2025   Prob (F-statistic):           3.79e-07\n",
      "Time:                        23:07:18   Log-Likelihood:                -69.855\n",
      "No. Observations:                  32   AIC:                             161.7\n",
      "Df Residuals:                      21   BIC:                             177.8\n",
      "Df Model:                          10                                         \n",
      "Covariance Type:            nonrobust                                         \n",
      "==============================================================================\n",
      "                 coef    std err          t      P>|t|      [0.025      0.975]\n",
      "------------------------------------------------------------------------------\n",
      "const         20.0906      0.468     42.884      0.000      19.116      21.065\n",
      "x1            -0.1959      1.837     -0.107      0.916      -4.016       3.624\n",
      "x2             1.6267      2.178      0.747      0.463      -2.903       6.157\n",
      "x3            -1.4497      1.469     -0.987      0.335      -4.505       1.605\n",
      "x4             0.4142      0.861      0.481      0.635      -1.376       2.204\n",
      "x5            -3.5780      1.824     -1.961      0.063      -7.372       0.216\n",
      "x6             1.4440      1.285      1.123      0.274      -1.229       4.117\n",
      "x7             0.1576      1.044      0.151      0.881      -2.013       2.329\n",
      "x8             1.2378      1.010      1.225      0.234      -0.863       3.338\n",
      "x9             0.4760      1.084      0.439      0.665      -1.779       2.731\n",
      "x10           -0.3170      1.318     -0.241      0.812      -3.057       2.423\n",
      "==============================================================================\n",
      "Omnibus:                        1.907   Durbin-Watson:                   1.861\n",
      "Prob(Omnibus):                  0.385   Jarque-Bera (JB):                1.747\n",
      "Skew:                           0.521   Prob(JB):                        0.418\n",
      "Kurtosis:                       2.526   Cond. No.                         15.6\n",
      "==============================================================================\n",
      "\n",
      "Notes:\n",
      "[1] Standard Errors assume that the covariance matrix of the errors is correctly specified.\n"
     ]
    }
   ],
   "source": [
    "X_sm = sm.add_constant(X_scaled)\n",
    "ols_mpg = sm.OLS(y.values, X_sm).fit()\n",
    "print(ols_mpg.summary())"
   ]
  },
  {
   "cell_type": "markdown",
   "id": "835209bf",
   "metadata": {},
   "source": [
    "## 1.1.2"
   ]
  },
  {
   "cell_type": "markdown",
   "id": "1ccca536",
   "metadata": {},
   "source": [
    "Entrenamos con el 40% de los datos"
   ]
  },
  {
   "cell_type": "code",
   "execution_count": 36,
   "id": "81c4a95b",
   "metadata": {},
   "outputs": [],
   "source": [
    "X_train, X_test, y_train, y_test = train_test_split(X_scaled, y.values, train_size=0.4, random_state=137)"
   ]
  },
  {
   "cell_type": "code",
   "execution_count": 37,
   "id": "356a68e6",
   "metadata": {},
   "outputs": [
    {
     "name": "stdout",
     "output_type": "stream",
     "text": [
      "R2 entrenamiento (lineal): 0.9901\n",
      "R2 prueba (lineal):       -54.0718\n"
     ]
    }
   ],
   "source": [
    "lm = LinearRegression().fit(X_train, y_train)\n",
    "y_train_pred = lm.predict(X_train)\n",
    "y_test_pred = lm.predict(X_test)\n",
    "r2_train = r2_score(y_train, y_train_pred)\n",
    "r2_test = r2_score(y_test, y_test_pred)\n",
    "print(f\"R2 entrenamiento (lineal): {r2_train:.4f}\")\n",
    "print(f\"R2 prueba (lineal):       {r2_test:.4f}\")"
   ]
  },
  {
   "cell_type": "markdown",
   "id": "5063ce35",
   "metadata": {},
   "source": [
    "## 1.1.3"
   ]
  },
  {
   "cell_type": "markdown",
   "id": "8d4593be",
   "metadata": {},
   "source": [
    "Añadimos regularizacion L2"
   ]
  },
  {
   "cell_type": "code",
   "execution_count": 38,
   "id": "298668af",
   "metadata": {},
   "outputs": [],
   "source": [
    "alphas = [0.1, 1, 10, 100]\n",
    "r2_results = []"
   ]
  },
  {
   "cell_type": "code",
   "execution_count": 39,
   "id": "fb0a7be7",
   "metadata": {},
   "outputs": [
    {
     "name": "stdout",
     "output_type": "stream",
     "text": [
      "   alpha  r2_train   r2_test\n",
      "0    0.1  0.980674  0.233276\n",
      "1    1.0  0.936103  0.619246\n",
      "2   10.0  0.849823  0.779531\n",
      "3  100.0  0.474303  0.270727\n"
     ]
    }
   ],
   "source": [
    "for a in alphas:\n",
    "    model_ridge = Ridge(alpha=a).fit(X_train, y_train)\n",
    "    r2_tr = r2_score(y_train, model_ridge.predict(X_train))\n",
    "    r2_te = r2_score(y_test, model_ridge.predict(X_test))\n",
    "    r2_results.append({\"alpha\": a, \"r2_train\": r2_tr, \"r2_test\": r2_te})\n",
    "\n",
    "r2_df_mpg_num = pd.DataFrame(r2_results)\n",
    "print(r2_df_mpg_num)"
   ]
  },
  {
   "cell_type": "markdown",
   "id": "2129310e",
   "metadata": {},
   "source": [
    "Con las alphas de 1 y 10 hay menos cambios con la de entrenamientos y la de prueba, aunque la que menos tiene diferencia es con el alpha de 10"
   ]
  },
  {
   "cell_type": "markdown",
   "id": "010cc9eb",
   "metadata": {},
   "source": [
    "## 1.2"
   ]
  },
  {
   "cell_type": "markdown",
   "id": "dd8e09f9",
   "metadata": {},
   "source": [
    "ahora con qsec"
   ]
  },
  {
   "cell_type": "code",
   "execution_count": 40,
   "id": "a8bf07d9",
   "metadata": {},
   "outputs": [
    {
     "name": "stdout",
     "output_type": "stream",
     "text": [
      "                            OLS Regression Results                            \n",
      "==============================================================================\n",
      "Dep. Variable:                      y   R-squared:                       1.000\n",
      "Model:                            OLS   Adj. R-squared:                  1.000\n",
      "Method:                 Least Squares   F-statistic:                 1.518e+29\n",
      "Date:                Thu, 18 Sep 2025   Prob (F-statistic):          1.12e-300\n",
      "Time:                        23:07:19   Log-Likelihood:                 999.73\n",
      "No. Observations:                  32   AIC:                            -1977.\n",
      "Df Residuals:                      21   BIC:                            -1961.\n",
      "Df Model:                          10                                         \n",
      "Covariance Type:            nonrobust                                         \n",
      "==============================================================================\n",
      "                 coef    std err          t      P>|t|      [0.025      0.975]\n",
      "------------------------------------------------------------------------------\n",
      "const         17.8488   1.43e-15   1.25e+16      0.000      17.849      17.849\n",
      "x1          2.665e-15    5.6e-15      0.476      0.639   -8.98e-15    1.43e-14\n",
      "x2          1.776e-15   6.64e-15      0.268      0.792    -1.2e-14    1.56e-14\n",
      "x3         -1.776e-15   4.48e-15     -0.397      0.695   -1.11e-14    7.53e-15\n",
      "x4         -8.882e-16   2.62e-15     -0.339      0.738   -6.34e-15    4.57e-15\n",
      "x5         -1.776e-15   5.56e-15     -0.320      0.752   -1.33e-14    9.78e-15\n",
      "x6             1.7588   3.92e-15   4.49e+14      0.000       1.759       1.759\n",
      "x7                  0   3.18e-15          0      1.000   -6.62e-15    6.62e-15\n",
      "x8          2.665e-15   3.08e-15      0.866      0.396   -3.74e-15    9.07e-15\n",
      "x9         -5.329e-15    3.3e-15     -1.613      0.122   -1.22e-14    1.54e-15\n",
      "x10         3.775e-15   4.01e-15      0.940      0.358   -4.57e-15    1.21e-14\n",
      "==============================================================================\n",
      "Omnibus:                        1.477   Durbin-Watson:                   1.406\n",
      "Prob(Omnibus):                  0.478   Jarque-Bera (JB):                1.278\n",
      "Skew:                           0.327   Prob(JB):                        0.528\n",
      "Kurtosis:                       2.272   Cond. No.                         15.6\n",
      "==============================================================================\n",
      "\n",
      "Notes:\n",
      "[1] Standard Errors assume that the covariance matrix of the errors is correctly specified.\n"
     ]
    }
   ],
   "source": [
    "y_q = df_num[\"qsec\"]\n",
    "X_q = X.copy()  \n",
    "X_sm_q = sm.add_constant(X_scaled)\n",
    "ols_qsec = sm.OLS(y_q.values, X_sm_q).fit()\n",
    "print(ols_qsec.summary())"
   ]
  },
  {
   "cell_type": "code",
   "execution_count": 41,
   "id": "cc6f5588",
   "metadata": {},
   "outputs": [
    {
     "name": "stdout",
     "output_type": "stream",
     "text": [
      "R2 entrenamiento (qsec) : 1.0000\n",
      "R2 prueba (qsec)       : 1.0000\n"
     ]
    }
   ],
   "source": [
    "Xq_train, Xq_test, yq_train, yq_test = train_test_split(X_scaled, y_q.values, train_size=0.4, random_state=42)\n",
    "\n",
    "lm_q = LinearRegression().fit(Xq_train, yq_train)\n",
    "r2_q_train = r2_score(yq_train, lm_q.predict(Xq_train))\n",
    "r2_q_test = r2_score(yq_test, lm_q.predict(Xq_test))\n",
    "print(f\"R2 entrenamiento (qsec) : {r2_q_train:.4f}\")\n",
    "print(f\"R2 prueba (qsec)       : {r2_q_test:.4f}\")"
   ]
  },
  {
   "cell_type": "code",
   "execution_count": 42,
   "id": "97932b16",
   "metadata": {},
   "outputs": [
    {
     "name": "stdout",
     "output_type": "stream",
     "text": [
      "   alpha  r2_train   r2_test\n",
      "0    0.1  0.999025  0.988051\n",
      "1    1.0  0.987910  0.948937\n",
      "2   10.0  0.900947  0.826914\n",
      "3  100.0  0.451942  0.382023\n"
     ]
    }
   ],
   "source": [
    "r2_results_q = []\n",
    "for a in alphas:\n",
    "    model_ridge_q = Ridge(alpha=a).fit(Xq_train, yq_train)\n",
    "    r2_tr_q = r2_score(yq_train, model_ridge_q.predict(Xq_train))\n",
    "    r2_te_q = r2_score(yq_test, model_ridge_q.predict(Xq_test))\n",
    "    r2_results_q.append({\"alpha\": a, \"r2_train\": r2_tr_q, \"r2_test\": r2_te_q})\n",
    "\n",
    "r2_df_qsec_num = pd.DataFrame(r2_results_q)\n",
    "print(r2_df_qsec_num)"
   ]
  },
  {
   "cell_type": "markdown",
   "id": "33296f9f",
   "metadata": {},
   "source": [
    "ahora cambio demasiado los resultados, ya que mejoraron bastantes. Ahora el que tenemos con menos diferencia es el de alpha = .1"
   ]
  },
  {
   "cell_type": "markdown",
   "id": "8acbb0c5",
   "metadata": {},
   "source": [
    "## 2.1"
   ]
  },
  {
   "cell_type": "markdown",
   "id": "48890c3e",
   "metadata": {},
   "source": [
    "convrtimos a dummies"
   ]
  },
  {
   "cell_type": "code",
   "execution_count": 43,
   "id": "ee007265",
   "metadata": {},
   "outputs": [],
   "source": [
    "df_dum = df.drop(columns=[\"model\"]).copy()\n",
    "df_dum = pd.get_dummies(df_dum, columns=[\"cyl\", \"gear\", \"carb\"], drop_first=True)\n"
   ]
  },
  {
   "cell_type": "code",
   "execution_count": 44,
   "id": "4ce590ea",
   "metadata": {},
   "outputs": [],
   "source": [
    "X_dum = df_dum.drop(columns=[\"mpg\"])\n",
    "y_dum_mpg = df_dum[\"mpg\"]"
   ]
  },
  {
   "cell_type": "code",
   "execution_count": 45,
   "id": "790843ee",
   "metadata": {},
   "outputs": [],
   "source": [
    "scaler2 = StandardScaler()\n",
    "X_dum_scaled = scaler2.fit_transform(X_dum)"
   ]
  },
  {
   "cell_type": "code",
   "execution_count": 46,
   "id": "1beedf72",
   "metadata": {},
   "outputs": [
    {
     "name": "stdout",
     "output_type": "stream",
     "text": [
      "                            OLS Regression Results                            \n",
      "==============================================================================\n",
      "Dep. Variable:                      y   R-squared:                       0.893\n",
      "Model:                            OLS   Adj. R-squared:                  0.779\n",
      "Method:                 Least Squares   F-statistic:                     7.830\n",
      "Date:                Thu, 18 Sep 2025   Prob (F-statistic):           0.000124\n",
      "Time:                        23:07:19   Log-Likelihood:                -66.608\n",
      "No. Observations:                  32   AIC:                             167.2\n",
      "Df Residuals:                      15   BIC:                             192.1\n",
      "Df Model:                          16                                         \n",
      "Covariance Type:            nonrobust                                         \n",
      "==============================================================================\n",
      "                 coef    std err          t      P>|t|      [0.025      0.975]\n",
      "------------------------------------------------------------------------------\n",
      "const         20.0906      0.501     40.114      0.000      19.023      21.158\n",
      "x1             4.3362      3.891      1.114      0.283      -3.958      12.630\n",
      "x2            -4.7580      2.661     -1.788      0.094     -10.429       0.913\n",
      "x3             0.6225      1.307      0.476      0.641      -2.163       3.408\n",
      "x4            -4.3624      2.445     -1.784      0.095      -9.574       0.849\n",
      "x5             0.6470      1.645      0.393      0.700      -2.860       4.154\n",
      "x6             0.9579      1.424      0.672      0.512      -2.078       3.994\n",
      "x7             0.5953      1.578      0.377      0.711      -2.769       3.959\n",
      "x8            -1.0950      1.257     -0.871      0.397      -3.774       1.584\n",
      "x9            -0.1668      3.552     -0.047      0.963      -7.737       7.403\n",
      "x10            0.5395      1.839      0.293      0.773      -3.381       4.460\n",
      "x11            0.9180      1.357      0.677      0.509      -1.974       3.810\n",
      "x12           -0.4539      1.074     -0.423      0.679      -2.744       1.836\n",
      "x13            0.8743      1.251      0.699      0.495      -1.793       3.542\n",
      "x14            0.5059      2.062      0.245      0.810      -3.890       4.902\n",
      "x15            0.7791      1.111      0.701      0.494      -1.589       3.147\n",
      "x16            1.2615      1.455      0.867      0.399      -1.839       4.362\n",
      "==============================================================================\n",
      "Omnibus:                        2.468   Durbin-Watson:                   2.105\n",
      "Prob(Omnibus):                  0.291   Jarque-Bera (JB):                1.772\n",
      "Skew:                           0.576   Prob(JB):                        0.412\n",
      "Kurtosis:                       3.009   Cond. No.                         26.3\n",
      "==============================================================================\n",
      "\n",
      "Notes:\n",
      "[1] Standard Errors assume that the covariance matrix of the errors is correctly specified.\n"
     ]
    }
   ],
   "source": [
    "X_dum_sm = sm.add_constant(X_dum_scaled)\n",
    "ols_mpg_dum = sm.OLS(y_dum_mpg.values, X_dum_sm).fit()\n",
    "print(ols_mpg_dum.summary())"
   ]
  },
  {
   "cell_type": "markdown",
   "id": "13e411d2",
   "metadata": {},
   "source": [
    "entrenamos"
   ]
  },
  {
   "cell_type": "code",
   "execution_count": 47,
   "id": "7d117f3a",
   "metadata": {},
   "outputs": [
    {
     "name": "stdout",
     "output_type": "stream",
     "text": [
      "R2 train (mpg con dummies): 1.0000\n",
      "R2 test  (mpg con dummies): 0.1097\n"
     ]
    }
   ],
   "source": [
    "Xdm_train, Xdm_test, ydm_train, ydm_test = train_test_split(X_dum_scaled, y_dum_mpg.values, train_size=0.4, random_state=137)\n",
    "\n",
    "lm_dum = LinearRegression().fit(Xdm_train, ydm_train)\n",
    "r2_dum_tr = r2_score(ydm_train, lm_dum.predict(Xdm_train))\n",
    "r2_dum_te = r2_score(ydm_test, lm_dum.predict(Xdm_test))\n",
    "print(f\"R2 train (mpg con dummies): {r2_dum_tr:.4f}\")\n",
    "print(f\"R2 test  (mpg con dummies): {r2_dum_te:.4f}\")"
   ]
  },
  {
   "cell_type": "markdown",
   "id": "33082e70",
   "metadata": {},
   "source": [
    "el modelo es pésimo"
   ]
  },
  {
   "cell_type": "markdown",
   "id": "b3d32c4f",
   "metadata": {},
   "source": [
    "## 2.2"
   ]
  },
  {
   "cell_type": "markdown",
   "id": "76a7aad9",
   "metadata": {},
   "source": [
    "con qsec"
   ]
  },
  {
   "cell_type": "code",
   "execution_count": 48,
   "id": "f53e679f",
   "metadata": {},
   "outputs": [
    {
     "name": "stdout",
     "output_type": "stream",
     "text": [
      "                            OLS Regression Results                            \n",
      "==============================================================================\n",
      "Dep. Variable:                      y   R-squared:                       1.000\n",
      "Model:                            OLS   Adj. R-squared:                  1.000\n",
      "Method:                 Least Squares   F-statistic:                 3.173e+28\n",
      "Date:                Thu, 18 Sep 2025   Prob (F-statistic):          5.06e-211\n",
      "Time:                        23:07:19   Log-Likelihood:                 987.59\n",
      "No. Observations:                  32   AIC:                            -1941.\n",
      "Df Residuals:                      15   BIC:                            -1916.\n",
      "Df Model:                          16                                         \n",
      "Covariance Type:            nonrobust                                         \n",
      "==============================================================================\n",
      "                 coef    std err          t      P>|t|      [0.025      0.975]\n",
      "------------------------------------------------------------------------------\n",
      "const         17.8488   2.47e-15   7.23e+15      0.000      17.849      17.849\n",
      "x1         -1.776e-15   1.92e-14     -0.093      0.927   -4.27e-14    3.91e-14\n",
      "x2         -4.441e-15   1.31e-14     -0.339      0.740   -3.24e-14    2.35e-14\n",
      "x3         -1.776e-15   6.44e-15     -0.276      0.787   -1.55e-14     1.2e-14\n",
      "x4          1.776e-15   1.21e-14      0.147      0.885   -2.39e-14    2.75e-14\n",
      "x5             1.7588   8.11e-15   2.17e+14      0.000       1.759       1.759\n",
      "x6          1.776e-15   7.02e-15      0.253      0.804   -1.32e-14    1.67e-14\n",
      "x7          4.885e-15   7.78e-15      0.628      0.539   -1.17e-14    2.15e-14\n",
      "x8          1.332e-15    6.2e-15      0.215      0.833   -1.19e-14    1.45e-14\n",
      "x9                  0   1.75e-14          0      1.000   -3.73e-14    3.73e-14\n",
      "x10        -4.413e-15   9.07e-15     -0.487      0.633   -2.37e-14    1.49e-14\n",
      "x11        -1.332e-15   6.69e-15     -0.199      0.845   -1.56e-14    1.29e-14\n",
      "x12         2.665e-15    5.3e-15      0.503      0.622   -8.62e-15     1.4e-14\n",
      "x13                 0   6.17e-15          0      1.000   -1.31e-14    1.31e-14\n",
      "x14         8.882e-16   1.02e-14      0.087      0.932   -2.08e-14    2.26e-14\n",
      "x15         2.498e-16   5.47e-15      0.046      0.964   -1.14e-14    1.19e-14\n",
      "x16         1.776e-15   7.17e-15      0.248      0.808   -1.35e-14    1.71e-14\n",
      "==============================================================================\n",
      "Omnibus:                        1.969   Durbin-Watson:                   2.162\n",
      "Prob(Omnibus):                  0.374   Jarque-Bera (JB):                1.197\n",
      "Skew:                           0.130   Prob(JB):                        0.550\n",
      "Kurtosis:                       2.089   Cond. No.                         26.3\n",
      "==============================================================================\n",
      "\n",
      "Notes:\n",
      "[1] Standard Errors assume that the covariance matrix of the errors is correctly specified.\n"
     ]
    }
   ],
   "source": [
    "y_dum_q = df_dum[\"qsec\"]\n",
    "\n",
    "X_dum_sm_q = sm.add_constant(X_dum_scaled)\n",
    "ols_q_dum = sm.OLS(y_dum_q.values, X_dum_sm_q).fit()\n",
    "print(ols_q_dum.summary())"
   ]
  },
  {
   "cell_type": "markdown",
   "id": "87b53022",
   "metadata": {},
   "source": [
    "entrenamos "
   ]
  },
  {
   "cell_type": "code",
   "execution_count": 49,
   "id": "96baa2d7",
   "metadata": {},
   "outputs": [
    {
     "name": "stdout",
     "output_type": "stream",
     "text": [
      "R2 train (qsec con dummies): 1.0000\n",
      "R2 test  (qsec con dummies): 0.9964\n"
     ]
    }
   ],
   "source": [
    "Xdq_train, Xdq_test, ydq_train, ydq_test = train_test_split(X_dum_scaled, y_dum_q.values, train_size=0.4, random_state=137)\n",
    "\n",
    "lm_q_dum = LinearRegression().fit(Xdq_train, ydq_train)\n",
    "r2_q_dum_tr = r2_score(ydq_train, lm_q_dum.predict(Xdq_train))\n",
    "r2_q_dum_te = r2_score(ydq_test, lm_q_dum.predict(Xdq_test))\n",
    "print(f\"R2 train (qsec con dummies): {r2_q_dum_tr:.4f}\")\n",
    "print(f\"R2 test  (qsec con dummies): {r2_q_dum_te:.4f}\")"
   ]
  },
  {
   "cell_type": "markdown",
   "id": "1f85a272",
   "metadata": {},
   "source": [
    "al parecer el modelo es muy bueno pues no existe tantas diferencias"
   ]
  },
  {
   "cell_type": "markdown",
   "id": "b5c1c8cd",
   "metadata": {},
   "source": [
    "## 3.1"
   ]
  },
  {
   "cell_type": "code",
   "execution_count": 50,
   "id": "b68c5a08",
   "metadata": {},
   "outputs": [
    {
     "data": {
      "text/html": [
       "<div>\n",
       "<style scoped>\n",
       "    .dataframe tbody tr th:only-of-type {\n",
       "        vertical-align: middle;\n",
       "    }\n",
       "\n",
       "    .dataframe tbody tr th {\n",
       "        vertical-align: top;\n",
       "    }\n",
       "\n",
       "    .dataframe thead th {\n",
       "        text-align: right;\n",
       "    }\n",
       "</style>\n",
       "<table border=\"1\" class=\"dataframe\">\n",
       "  <thead>\n",
       "    <tr style=\"text-align: right;\">\n",
       "      <th></th>\n",
       "      <th>modelo</th>\n",
       "      <th>r2_train</th>\n",
       "    </tr>\n",
       "  </thead>\n",
       "  <tbody>\n",
       "    <tr>\n",
       "      <th>0</th>\n",
       "      <td>mpg_num_sin_dummies</td>\n",
       "      <td>0.990081</td>\n",
       "    </tr>\n",
       "    <tr>\n",
       "      <th>1</th>\n",
       "      <td>mpg_con_dummies</td>\n",
       "      <td>1.000000</td>\n",
       "    </tr>\n",
       "  </tbody>\n",
       "</table>\n",
       "</div>"
      ],
      "text/plain": [
       "                modelo  r2_train\n",
       "0  mpg_num_sin_dummies  0.990081\n",
       "1      mpg_con_dummies  1.000000"
      ]
     },
     "execution_count": 50,
     "metadata": {},
     "output_type": "execute_result"
    }
   ],
   "source": [
    "summary_cmp = pd.DataFrame({\n",
    "    \"modelo\": [\"mpg_num_sin_dummies\", \"mpg_con_dummies\"],\n",
    "    \"r2_train\": [r2_train, r2_dum_tr]\n",
    "})\n",
    "summary_cmp"
   ]
  },
  {
   "cell_type": "markdown",
   "id": "f0f5addc",
   "metadata": {},
   "source": [
    "Al parecer con y sin dummies es practicamente igual"
   ]
  },
  {
   "cell_type": "markdown",
   "id": "8d0533d4",
   "metadata": {},
   "source": [
    "## 3.2"
   ]
  },
  {
   "cell_type": "code",
   "execution_count": 51,
   "id": "b42664e3",
   "metadata": {},
   "outputs": [
    {
     "data": {
      "text/html": [
       "<div>\n",
       "<style scoped>\n",
       "    .dataframe tbody tr th:only-of-type {\n",
       "        vertical-align: middle;\n",
       "    }\n",
       "\n",
       "    .dataframe tbody tr th {\n",
       "        vertical-align: top;\n",
       "    }\n",
       "\n",
       "    .dataframe thead th {\n",
       "        text-align: right;\n",
       "    }\n",
       "</style>\n",
       "<table border=\"1\" class=\"dataframe\">\n",
       "  <thead>\n",
       "    <tr style=\"text-align: right;\">\n",
       "      <th></th>\n",
       "      <th>modelo</th>\n",
       "      <th>r2_train</th>\n",
       "    </tr>\n",
       "  </thead>\n",
       "  <tbody>\n",
       "    <tr>\n",
       "      <th>0</th>\n",
       "      <td>qsec_num_sin_dummies</td>\n",
       "      <td>1.0</td>\n",
       "    </tr>\n",
       "    <tr>\n",
       "      <th>1</th>\n",
       "      <td>qsec_con_dummies</td>\n",
       "      <td>1.0</td>\n",
       "    </tr>\n",
       "  </tbody>\n",
       "</table>\n",
       "</div>"
      ],
      "text/plain": [
       "                 modelo  r2_train\n",
       "0  qsec_num_sin_dummies       1.0\n",
       "1      qsec_con_dummies       1.0"
      ]
     },
     "execution_count": 51,
     "metadata": {},
     "output_type": "execute_result"
    }
   ],
   "source": [
    "summary_cmp_q = pd.DataFrame({\n",
    "    \"modelo\": [\"qsec_num_sin_dummies\", \"qsec_con_dummies\"],\n",
    "    \"r2_train\": [r2_q_train, r2_q_dum_tr]\n",
    "})\n",
    "summary_cmp_q"
   ]
  },
  {
   "cell_type": "markdown",
   "id": "d28a2de9",
   "metadata": {},
   "source": [
    "Aqui son exactamente iguales"
   ]
  }
 ],
 "metadata": {
  "kernelspec": {
   "display_name": "base",
   "language": "python",
   "name": "python3"
  },
  "language_info": {
   "codemirror_mode": {
    "name": "ipython",
    "version": 3
   },
   "file_extension": ".py",
   "mimetype": "text/x-python",
   "name": "python",
   "nbconvert_exporter": "python",
   "pygments_lexer": "ipython3",
   "version": "3.12.7"
  }
 },
 "nbformat": 4,
 "nbformat_minor": 5
}
