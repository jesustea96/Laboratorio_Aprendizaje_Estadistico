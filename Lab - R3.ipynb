{
 "cells": [
  {
   "cell_type": "markdown",
   "id": "de16ac05-1760-49ad-b40c-327a96a8e846",
   "metadata": {},
   "source": [
    "# Laboratorio de regresión - 3"
   ]
  },
  {
   "cell_type": "markdown",
   "id": "1db0fb70-ca43-47f7-bbfd-fd06ca0e25f2",
   "metadata": {},
   "source": [
    "## Significancia de factores"
   ]
  },
  {
   "cell_type": "markdown",
   "id": "6043c593-39d1-405c-b92e-487314170cf6",
   "metadata": {},
   "source": [
    "|                |   |\n",
    ":----------------|---|\n",
    "| **Nombre**     | Jesús Emmanuel Flores Cortés  |\n",
    "| **Fecha**      | 25/08/2025  |\n",
    "| **Expediente** | 751571  |"
   ]
  },
  {
   "cell_type": "markdown",
   "id": "2cfabde4-866e-4f00-8a37-9d57f2bebbb6",
   "metadata": {},
   "source": [
    "Descarga el archivo de publicidad y carga los datos (Advertising.csv)."
   ]
  },
  {
   "cell_type": "code",
   "execution_count": 58,
   "id": "07527ab6-7c18-48b5-9779-d5e6e5da289b",
   "metadata": {},
   "outputs": [],
   "source": [
    "import pandas as pd\n",
    "import numpy as np  \n",
    "from sklearn.linear_model import LinearRegression"
   ]
  },
  {
   "cell_type": "code",
   "execution_count": 59,
   "id": "f76bcb16-5b02-42aa-846f-fb890b34af26",
   "metadata": {},
   "outputs": [],
   "source": [
    "read = pd.read_csv('Advertising.csv')"
   ]
  },
  {
   "cell_type": "code",
   "execution_count": 60,
   "id": "0769d0e1-47cc-4ccc-9066-3f3a06dbe283",
   "metadata": {},
   "outputs": [
    {
     "name": "stdout",
     "output_type": "stream",
     "text": [
      "   Unnamed: 0     TV  radio  newspaper  sales\n",
      "0           1  230.1   37.8       69.2   22.1\n",
      "1           2   44.5   39.3       45.1   10.4\n",
      "2           3   17.2   45.9       69.3    9.3\n",
      "3           4  151.5   41.3       58.5   18.5\n",
      "4           5  180.8   10.8       58.4   12.9\n"
     ]
    }
   ],
   "source": [
    "advertising = read.head()\n",
    "print(advertising)"
   ]
  },
  {
   "cell_type": "markdown",
   "id": "f81535ac-87ca-490e-89e7-0564c31f73f0",
   "metadata": {},
   "source": [
    "**¿Hay alguna relación entre el presupuesto para publicidad y las ventas?**\n",
    "\n",
    "Nuestra primera meta debe ser determinar si hay evidencia en los datos de que haya una asociación entre estas variables.\n",
    "\n",
    "- ¿Por qué? ¿Qué resultaría si nos diéramos cuenta de la falta de relación entre el presupuesto de publicidad y las ventas?"
   ]
  },
  {
   "cell_type": "markdown",
   "id": "e5ed6dff-daa6-4680-ae46-1892fbe61743",
   "metadata": {},
   "source": [
    "Si hay una relacion positiva de la publicidad con las ventas, si no lo hubiera se tendria que dejar de meter publicidad porque seria un gasto innecesario "
   ]
  },
  {
   "cell_type": "markdown",
   "id": "3ff47351-fa8b-4c19-93ce-d68dce869913",
   "metadata": {},
   "source": [
    "**¿Qué tan fuerte es esta relación?**\n",
    "Asumiendo que existe esta relación, ¿nos sirve conocer el impacto que tiene invertir en publicidad en las ventas?"
   ]
  },
  {
   "cell_type": "markdown",
   "id": "f4f729ab-b3c5-45f2-be4d-679b009f3d98",
   "metadata": {},
   "source": [
    "Mientras mas fuerte sea mejor sera, porque nos dara un indicador de cuanto presupuesto es correcto meterle a cada una de nuestra variables"
   ]
  },
  {
   "cell_type": "markdown",
   "id": "4cd03e68-778f-49cc-9161-a2fff241af56",
   "metadata": {},
   "source": [
    "**¿Cuáles medios están asociados con las ventas? ¿Qué tan grande es la asociación entre un medio específico y las ventas?**\n",
    "\n",
    "Hay 3 medios distintos en los datos. ¿Sirve invertir en los 3? ¿Conviene más invertir sólo en uno?\n",
    "\n",
    "**¿Qué tan seguros estamos de que podríamos predecir ventas futuras?**\n",
    "\n",
    "**¿La relación es lineal?**\n",
    "\n",
    "**¿Hay sinergia entre estos medios?**\n",
    "\n",
    "Puede ser que gastar \\\\$50,000 en publicidad y otros \\\\$50,000 en radio es mejor opción que gastar \\\\$100,000 en televisión. A esto le llamamos efecto de interacción.\n",
    "\n",
    "Podemos usar regresión lineal para responder todas estas preguntas."
   ]
  },
  {
   "cell_type": "markdown",
   "id": "cb3f1c79-027e-4af9-b61b-82e4a45df0bb",
   "metadata": {},
   "source": [
    "Realiza una regresión lineal:\n",
    "\n",
    "$$ \\text{ventas} \\approx \\beta_0 + (\\beta_1)(\\text{TV})$$"
   ]
  },
  {
   "cell_type": "code",
   "execution_count": 61,
   "id": "82dd5260-ff12-4261-b325-40f70c7e3783",
   "metadata": {},
   "outputs": [
    {
     "name": "stdout",
     "output_type": "stream",
     "text": [
      "Intercepto TV (beta_0): 7.0326\n",
      "Coeficiente TV (beta_1): 0.0475\n"
     ]
    }
   ],
   "source": [
    "df = pd.read_csv('Advertising.csv')\n",
    "X = df[['TV']]\n",
    "y = df['sales']\n",
    "\n",
    "lr = LinearRegression()\n",
    "lr.fit(X, y)\n",
    "\n",
    "print(f'Intercepto TV (beta_0): {lr.intercept_:.4f}')\n",
    "print(f'Coeficiente TV (beta_1): {lr.coef_[0]:.4f}')"
   ]
  },
  {
   "cell_type": "code",
   "execution_count": 62,
   "id": "5c5d518d-a3da-4b63-acd9-0481b231408d",
   "metadata": {},
   "outputs": [
    {
     "name": "stdout",
     "output_type": "stream",
     "text": [
      "Intercepto newspaper (beta_0): 12.3514\n",
      "Coeficiente newspaper (beta_1): 0.0547\n"
     ]
    }
   ],
   "source": [
    "x_newspaper = df[['newspaper']]\n",
    "\n",
    "lr.fit(x_newspaper, y)  \n",
    "print(f'Intercepto newspaper (beta_0): {lr.intercept_:.4f}')\n",
    "print(f'Coeficiente newspaper (beta_1): {lr.coef_[0]:.4f}')"
   ]
  },
  {
   "cell_type": "code",
   "execution_count": 63,
   "id": "b7f11512-1a7e-4cda-869d-c6eb6847564c",
   "metadata": {},
   "outputs": [
    {
     "name": "stdout",
     "output_type": "stream",
     "text": [
      "Intercepto radio (beta_0): 9.3116\n",
      "Coeficiente radio (beta_1): 0.2025\n"
     ]
    }
   ],
   "source": [
    "x_radio = df[['radio']] \n",
    "lr.fit(x_radio, y)  \n",
    "print(f'Intercepto radio (beta_0): {lr.intercept_:.4f}')      \n",
    "print(f'Coeficiente radio (beta_1): {lr.coef_[0]:.4f}')"
   ]
  },
  {
   "cell_type": "markdown",
   "id": "a84ba655-7b09-482a-992f-02380dd54209",
   "metadata": {},
   "source": [
    "### Verificando la precisión de nuestros coeficientes estimados"
   ]
  },
  {
   "cell_type": "markdown",
   "id": "30733e87-7be2-477f-84c2-d430ad1a2a5d",
   "metadata": {},
   "source": [
    "Recuerda que en el mundo real hay ruidos y errores de medición. Siempre se asume que la verdadera relación entre $X$ y $Y$ es $$Y = \\beta_0 + \\beta_1 X + \\epsilon$$"
   ]
  },
  {
   "cell_type": "markdown",
   "id": "af33c415-790e-4e28-bcd5-8f94ac545822",
   "metadata": {},
   "source": [
    "Se asume que el término de error es independiente de $X$ (el error siempre es el mismo sin importar el valor de $X$). Este modelo describe a la *línea de regresión de la población*, que es la mejor aproximación de la verdadera relación entre $X$ y $Y$. Cuando usamos mínimos cuadrados encontramos la *línea de mínimos cuadrados*."
   ]
  },
  {
   "cell_type": "markdown",
   "id": "86d80b2d-2c96-4fa7-8348-29e8215e4e2e",
   "metadata": {},
   "source": [
    "¿Cuál es la diferencia entre población y muestra?"
   ]
  },
  {
   "cell_type": "markdown",
   "id": "ec345b97-255d-45a2-95ea-487212a02644",
   "metadata": {},
   "source": [
    "La población son todos los datos que tenemos y la muestra es solo un estracto de esa población."
   ]
  },
  {
   "cell_type": "markdown",
   "id": "ea74ba36-845f-44fe-89e4-442b66f44d9d",
   "metadata": {},
   "source": [
    "¿Cuál crees que sea la diferencia entre hacer una regresión con todos los datos de la población y una muestra de ella?"
   ]
  },
  {
   "cell_type": "markdown",
   "id": "1563051a-01a3-4a4e-bff2-f12c7d113b15",
   "metadata": {},
   "source": [
    "Que en la de la muestra simpre va a haber un grado de significancia, es decir, no estamos completamente seguros de lo que nos salga en nuestras regresiones de muestra, a diferencia de con la población."
   ]
  },
  {
   "cell_type": "markdown",
   "id": "c123335b-5299-4f2e-ac8e-4b1e40754221",
   "metadata": {},
   "source": [
    "La línea de regresión de la población no se puede observar. El concepto de comparar estas líneas es una extensión natural del acercamiento estadístico estándar de usar información de una muestra para estimar características de una población grande."
   ]
  },
  {
   "cell_type": "markdown",
   "id": "5b0d26b9-18de-4467-a836-3f75b228a363",
   "metadata": {},
   "source": [
    "Imagina que quieres encontrar la altura promedio de un mexicano $\\mu$. Medir a todos y cada uno de los mexicanos en situaciones similares, con la misma regla, mismo operador, y otras incontables formas de minimizar la variación de la medida es una tarea imposible. Lo que podemos asumir es que $\\hat{\\mu} = \\bar{y}$. La media poblacional y la media muestral son diferentes, pero la media muestral es usualmente un buen estimado.\n",
    "\n",
    "De la misma manera, como no contamos con el 100% de la información para hacer una regresión, los coeficientes $\\beta_0$ y $\\beta_1$ son desconocidos. Podemos estimarlos usando mínimos cuadrados, encontrando $\\hat{\\beta_0}$ y $\\hat{\\beta_1}$. Puede que las muestras que tengamos en ese momento estén un poco por encima de la media, pero otras muestras en otro momento puede que estén debajo de la media. En general, esperamos que el promedio de las aproximaciones $\\hat{\\mu}$ aproxime a $\\mu$."
   ]
  },
  {
   "cell_type": "markdown",
   "id": "7fff6312-57a0-4c9f-aaa9-f22f6294c71c",
   "metadata": {},
   "source": [
    "Esto lleva a la pregunta: ¿qué tan cercanos son nuestros coeficientes estimados a los verdaderos coeficientes? Utilizamos el concepto de error estándar para evaluar esto.\n",
    "\n",
    "$$ \\text{Var}(\\hat{\\mu})=\\text{SE}(\\hat{\\mu})^2 = \\frac{\\sigma^2}{n} $$\n",
    "\n",
    "Donde $\\sigma$ es la desviación estándar de cada una de las observaciones $y_i$ de $Y$. El error estándar nos dice la cantidad promedio que el estimado difiere del valor verdadero. Podemos ver en la fórmula que entre más observaciones tengamos el error se hace más pequeño. Las fórmulas para errores estándar de $\\hat{\\beta_0}$ y $\\hat{\\beta_1}$ son:\n",
    "\n",
    "$$ \\text{SE}(\\hat{\\beta_0})^2 = \\sigma^2 [\\frac{1}{n} + \\frac{\\bar{x}^2}{\\sum_{i=1}^n (x_i - \\bar{x})^2}]$$\n",
    "\n",
    "$$ \\text{SE}(\\hat{\\beta_1})^2 = \\frac{\\sigma^2}{\\sum_{i=1}^n (x_i - \\bar{x})^2}$$\n",
    "\n",
    "$$ \\sigma^2 = \\text{Var}(\\epsilon) = \\text{RSE}^2 = \\frac{\\text{RSS}}{n-p}$$"
   ]
  },
  {
   "cell_type": "markdown",
   "id": "661b6d7c-2274-462f-92ff-0e7be8ca742d",
   "metadata": {},
   "source": [
    "Para que estas fórmulas sean validas asumimos que los errores $\\epsilon_i$ tienen varianza común $\\sigma^2$ y que no están correlacionados.\n",
    "\n",
    "Calcula los errores estándar de los coeficientes"
   ]
  },
  {
   "cell_type": "code",
   "execution_count": 64,
   "id": "07843e5d-fa42-4266-9dda-7701a5700f07",
   "metadata": {},
   "outputs": [],
   "source": [
    "pd.read_csv('Advertising.csv')\n",
    "X = df['TV'].values\n",
    "y = df['sales'].values\n",
    "n = len(X)\n",
    "p = 2"
   ]
  },
  {
   "cell_type": "code",
   "execution_count": 65,
   "id": "c0f7beeb-3e18-419f-b0f1-29b47569ca11",
   "metadata": {},
   "outputs": [],
   "source": [
    "lr.fit(X.reshape(-1, 1), y)\n",
    "beta_0 = lr.intercept_\n",
    "beta_1 = lr.coef_[0]"
   ]
  },
  {
   "cell_type": "code",
   "execution_count": 66,
   "id": "b3a49811-31de-4ffb-bb1b-fab271b55b56",
   "metadata": {},
   "outputs": [
    {
     "name": "stdout",
     "output_type": "stream",
     "text": [
      "(RSS): 2102.5306\n"
     ]
    }
   ],
   "source": [
    "y_pred = lr.predict(X.reshape(-1, 1))\n",
    "RSS = sum((y - y_pred) ** 2)\n",
    "print(f'(RSS): {RSS:.4f}')"
   ]
  },
  {
   "cell_type": "code",
   "execution_count": 67,
   "id": "ee2b9c0c",
   "metadata": {},
   "outputs": [
    {
     "name": "stdout",
     "output_type": "stream",
     "text": [
      "RSE: 10.6188\n"
     ]
    }
   ],
   "source": [
    "RSE = (RSS / (n - p))\n",
    "print(f'RSE: {RSE:.4f}')"
   ]
  },
  {
   "cell_type": "code",
   "execution_count": 68,
   "id": "923147db",
   "metadata": {},
   "outputs": [
    {
     "name": "stdout",
     "output_type": "stream",
     "text": [
      "SE(beta_0): 0.4578\n"
     ]
    }
   ],
   "source": [
    "x_2 = np.mean(X)*np.mean(X)\n",
    "x_mean = np.mean(X)\n",
    "SE = (RSE *(1/n + (x_2 / sum((X - x_mean)**2))))**0.5\n",
    "print(f'SE(beta_0): {SE:.4f}')"
   ]
  },
  {
   "cell_type": "code",
   "execution_count": 69,
   "id": "d3ef570a",
   "metadata": {},
   "outputs": [
    {
     "name": "stdout",
     "output_type": "stream",
     "text": [
      "SE(beta_1): 0.0027\n"
     ]
    }
   ],
   "source": [
    "SE_beta_1 = (RSE / sum((X - x_mean)**2))**0.5\n",
    "print(f'SE(beta_1): {SE_beta_1:.4f}')"
   ]
  },
  {
   "cell_type": "code",
   "execution_count": 70,
   "id": "92540b36",
   "metadata": {},
   "outputs": [
    {
     "name": "stdout",
     "output_type": "stream",
     "text": [
      "Intercepto (beta_0): 7.0326\n",
      "Coeficiente TV (beta_1): 0.0475\n"
     ]
    }
   ],
   "source": [
    "lr = LinearRegression()\n",
    "lr.fit(X.reshape(-1, 1), y)\n",
    "beta_0 = lr.intercept_   \n",
    "beta_1 = lr.coef_[0]    \n",
    "print(f'Intercepto (beta_0): {beta_0:.4f}')\n",
    "print(f'Coeficiente TV (beta_1): {beta_1:.4f}') "
   ]
  },
  {
   "cell_type": "markdown",
   "id": "9c2711ec-2380-4bce-ac68-007378e7b76c",
   "metadata": {},
   "source": [
    "Estos errores se pueden usar para calcular intervalos de confianza. Un intervalo de confianza del $95\\%$ se define como un rango de valores en el cuál se encuentra el desconocido valor verdadero con un $95\\%$ de probabilidad.\n",
    "\n",
    "Otra forma de verlo es que si tomamos muestras repetidas y construimos un intervalo de confianza para cada una, el $95\\%$ de los intervalos creados van a contener el valor verdadero. Para la regresión el intervalo de confianza del $95\\%$ toma la forma:\n",
    "\n",
    "$$ \\hat{\\beta_j} \\pm 2\\text{SE}(\\hat{\\beta_j})$$"
   ]
  },
  {
   "cell_type": "markdown",
   "id": "a71aed31-b058-4217-8d45-9686b9611511",
   "metadata": {},
   "source": [
    "Calcula los intervalos de confianza para los coeficientes estimados:"
   ]
  },
  {
   "cell_type": "code",
   "execution_count": 71,
   "id": "8b725487-4e48-471d-9c5a-547e7e176334",
   "metadata": {},
   "outputs": [
    {
     "name": "stdout",
     "output_type": "stream",
     "text": [
      "Intervalo de confianza beta_0: (6.1169, 7.9483)\n",
      "Intervalo de confianza beta_1: (0.0422, 0.0529)\n"
     ]
    }
   ],
   "source": [
    "beta_0_lower = beta_0 - 2*SE\n",
    "beta_0_upper = beta_0 + 2*SE    \n",
    "print(f'Intervalo de confianza beta_0: ({beta_0_lower:.4f}, {beta_0_upper:.4f})')\n",
    "beta_1_lower = beta_1 - 2*SE_beta_1  \n",
    "beta_1_upper = beta_1 + 2*SE_beta_1   \n",
    "print(f'Intervalo de confianza beta_1: ({beta_1_lower:.4f}, {beta_1_upper:.4f})')"
   ]
  },
  {
   "cell_type": "markdown",
   "id": "da3b3100-fb87-42de-9e74-75c72464bb7b",
   "metadata": {},
   "source": [
    "Los errores estándar también se usan para realizar pruebas de hipótesis. La prueba de hipótesis más común es probar la hipótesis nula de:\n",
    "\n",
    "$$ H_0: \\text{No hay relación entre } X \\text{ y } Y \\ \\ \\ \\ (\\beta_1=0)$$"
   ]
  },
  {
   "cell_type": "markdown",
   "id": "a1ef288e-55fe-45fb-bb86-4bef282b5947",
   "metadata": {},
   "source": [
    "contra la hipótesis alternativa:\n",
    "$$ H_0: \\text{Hay alguna relación entre } X \\text{ y } Y \\ \\ \\ (\\beta_1 \\neq 0)$$"
   ]
  },
  {
   "cell_type": "markdown",
   "id": "eaf0c27a-4a67-450c-b2ce-a65958938c25",
   "metadata": {},
   "source": [
    "Explica con tus palabras el significado de la hipótesis nula y la hipótesis alternativa."
   ]
  },
  {
   "cell_type": "markdown",
   "id": "5d602628-5c24-4898-a743-d84fb854474d",
   "metadata": {},
   "source": [
    "Lanzamos nuestras hipotesis esperando ver la relacion entre nuestra X y Y, en la nula si es que nuestro beta 1 es igual a cero significa que no hay ninguna relacion entre nuestra variables, y si no es 0 rechazamos la nula y aceptamos la alterna, confirmando la ralacion entre las dos."
   ]
  },
  {
   "cell_type": "markdown",
   "id": "cc6404ea-89ae-45f0-9935-67dbd53b78c6",
   "metadata": {},
   "source": [
    "Para probal la hipótesis nula debemos determinar si nuestro estimado $\\hat{\\beta_1}$ de $\\beta_1$ está lo suficientemente alejado de cero para que podamos decir con confianza que este valor no es cero. \n",
    "\n",
    "¿Qué tan lejos? Depende de qué tanta confianza tengamos en el estimado encontrado. Si nuestro error estándar es pequeño y nuestro estimado está alejado de cero podríamos decir que hay muy poca probabilidad de que el valor verdadero sea 0. En cambio, si nuestro error estándar es grande y nuestro estimado está muy cerca de cero, entonces podrías ser que el valor verdadero sea cero y que no haya relación entre las variables."
   ]
  },
  {
   "cell_type": "markdown",
   "id": "96161b14-6a16-41ea-aec8-0394f729447d",
   "metadata": {},
   "source": [
    "Se calcula un *estadístico t* dado por\n",
    "$$ t = \\frac{\\hat{\\beta_j} - \\mu}{\\text{SE}(\\hat{\\beta_j})} $$"
   ]
  },
  {
   "cell_type": "markdown",
   "id": "4f04296d-854b-4fcb-9c79-6b23b516f2f3",
   "metadata": {},
   "source": [
    "donde $\\mu$ es el valor contra el que queremos probar.\n",
    "\n",
    "Calcula el estadístico t para tus coeficientes estimados, usando como referencia la prueba de hipótesis."
   ]
  },
  {
   "cell_type": "code",
   "execution_count": 72,
   "id": "68f15e0c-6c64-4ff5-a03c-8d72b639db7f",
   "metadata": {},
   "outputs": [
    {
     "name": "stdout",
     "output_type": "stream",
     "text": [
      "t0: 15.3603\n",
      "t1: 17.6676\n"
     ]
    }
   ],
   "source": [
    "t0 = beta_0 / SE\n",
    "t1 = beta_1 / SE_beta_1 \n",
    "print(f't0: {t0:.4f}')\n",
    "print(f't1: {t1:.4f}')"
   ]
  },
  {
   "cell_type": "markdown",
   "id": "7737b123-f4c5-403c-92f2-4800c79107d9",
   "metadata": {},
   "source": [
    "La distribución t tiene forma de campana y se parece bastante a la distribución normal cuando $n > 30$. Ya sólo es cuestión de calcular la probabilidad de observar cualquier número tal que su valor absoluto sea igual o mayor que el valor absoluto del estadístico t calculado. En otras palabras:\n",
    "$$ P(|x| \\geq |t|) $$"
   ]
  },
  {
   "cell_type": "markdown",
   "id": "6bb2ccf1-b4b1-4c0c-a15b-d4fdd2f4552a",
   "metadata": {},
   "source": [
    "A esta probabilidad la llamamos *p-value*. Un *p-value* pequeño indica que es poco probable que exista por puro azar una relación significativa entre predictor y respuesta, en caso de que no haya una asociación real entre predictor y respuesta. En otras palabras, el *p-value* te dice la probabilidad de que parezca que hay relación cuando no la hay.\n",
    "\n",
    "Si el *p-value* es pequeño, inferimos que sí hay una asociación entre el predictor y la respuesta, y **rechazamos la hipótesis nula**.\n",
    "  "
   ]
  },
  {
   "cell_type": "markdown",
   "id": "c7f17065-a71d-4322-8782-3e805df65d29",
   "metadata": {},
   "source": [
    "¿Qué tan pequeño? Depende de la aplicación. Un valor muy común es del $5\\%$.\n",
    "\n",
    "Utiliza el siguiente código para calcular el *p-value* para tus coeficientes\n",
    "\n",
    "`from scipy import stats`\n",
    "\n",
    "`p_bj = 2*(1 - stats.t.cdf(np.abs(t_bj), n-p))`"
   ]
  },
  {
   "cell_type": "code",
   "execution_count": 73,
   "id": "7a542d04-f9cb-4ea2-9af1-ca79d1539860",
   "metadata": {},
   "outputs": [
    {
     "name": "stdout",
     "output_type": "stream",
     "text": [
      "P-value beta_0: 0.0000000000\n",
      "P-value beta_1: 0.0000000000\n"
     ]
    }
   ],
   "source": [
    "import scipy.stats as stats\n",
    "p_value_0 = 2 * (1 - stats.t.cdf(np.abs(t0), df=n - p))\n",
    "print(f'P-value beta_0: {p_value_0:.10f}')\n",
    "\n",
    "p_value_1 = 2 * (1 - stats.t.cdf(np.abs(t1), df=n - p))\n",
    "print(f'P-value beta_1: {p_value_1:.10f}')"
   ]
  },
  {
   "cell_type": "markdown",
   "id": "2be9ad17-db40-405e-b88a-d0af8a05aacf",
   "metadata": {},
   "source": [
    "¿Se rechaza la hipótesis nula? ¿Qué significa?"
   ]
  },
  {
   "cell_type": "markdown",
   "id": "c0f7f417-cfb7-4d4b-a0d1-6612904051a8",
   "metadata": {},
   "source": [
    "Al ser cero la rechazamos  y suponemos que si estan relacionadas "
   ]
  },
  {
   "cell_type": "markdown",
   "id": "3a994d1a-6187-491c-a518-7971cebe3c0a",
   "metadata": {},
   "source": [
    "Realiza otras dos regresiones. Ya tienes hecha la regresión de ventas dado el gasto en publicidad de TV. Realiza la regresión para gastos en radio y gastos en periódico. Organiza las respuestas para que debajo de esta celda se tenga:\n",
    "- Título de regresión\n",
    "- Coeficientes estimados\n",
    "- Errores estándar de los coeficientes\n",
    "- Intervalos de confianza\n",
    "- Estadísticos t\n",
    "- p-values\n",
    "- Observaciones"
   ]
  },
  {
   "cell_type": "code",
   "execution_count": 74,
   "id": "166901b6-333e-49f2-bd64-52f13d866e1e",
   "metadata": {},
   "outputs": [
    {
     "name": "stdout",
     "output_type": "stream",
     "text": [
      "Intercepto newspaper (beta_0): 12.3514\n",
      "Coeficiente newspaper (beta_1): 0.0547\n",
      "RSS newspaper: 5134.8045\n",
      "RSE newspaper: 25.9334\n",
      "SE(beta_0) newspaper: 0.6214\n",
      "SE(beta_1) newspaper: 0.0166\n"
     ]
    }
   ],
   "source": [
    "pd.read_csv('Advertising.csv')\n",
    "x_newspaper = df['newspaper'].values\n",
    "y = df['sales'].values  \n",
    "n = len(x_newspaper)\n",
    "p = 2   \n",
    "lr.fit(x_newspaper.reshape(-1, 1), y)\n",
    "beta_0_newspaper = lr.intercept_      \n",
    "beta_1_newspaper = lr.coef_[0]  \n",
    "print(f'Intercepto newspaper (beta_0): {beta_0_newspaper:.4f}')\n",
    "print(f'Coeficiente newspaper (beta_1): {beta_1_newspaper:.4f}')\n",
    "y_pred_newspaper = lr.predict(x_newspaper.reshape(-1, 1))\n",
    "RSS_newspaper = sum((y - y_pred_newspaper) ** 2)        \n",
    "print(f'RSS newspaper: {RSS_newspaper:.4f}')    \n",
    "RSE_newspaper = (RSS_newspaper / (n - p))\n",
    "print(f'RSE newspaper: {RSE_newspaper:.4f}')    \n",
    "x_2_newspaper = np.mean(x_newspaper)*np.mean(x_newspaper)\n",
    "x_mean_newspaper = np.mean(x_newspaper)\n",
    "SE_newspaper = (RSE_newspaper *(1/n + (x_2_newspaper / sum((x_newspaper - x_mean_newspaper)**2))))**0.5\n",
    "print(f'SE(beta_0) newspaper: {SE_newspaper:.4f}')\n",
    "SE_beta_1_newspaper = (RSE_newspaper / sum((x_newspaper - x_mean_newspaper)**2))**0.5\n",
    "print(f'SE(beta_1) newspaper: {SE_beta_1_newspaper:.4f}')"
   ]
  },
  {
   "cell_type": "code",
   "execution_count": 75,
   "id": "e34935eb",
   "metadata": {},
   "outputs": [
    {
     "name": "stdout",
     "output_type": "stream",
     "text": [
      "Intervalo de confianza beta_0 newspaper: (11.1086, 13.5942)\n",
      "Intervalo de confianza beta_1 newspaper: (0.0215, 0.0878)\n"
     ]
    }
   ],
   "source": [
    "beta_0_lower_newspaper = beta_0_newspaper - 2*SE_newspaper\n",
    "beta_0_upper_newspaper = beta_0_newspaper + 2*SE_newspaper  \n",
    "print(f'Intervalo de confianza beta_0 newspaper: ({beta_0_lower_newspaper:.4f}, {beta_0_upper_newspaper:.4f})')\n",
    "beta_1_lower_newspaper = beta_1_newspaper - 2*SE_beta_1_newspaper\n",
    "beta_1_upper_newspaper = beta_1_newspaper + 2*SE_beta_1_newspaper\n",
    "print(f'Intervalo de confianza beta_1 newspaper: ({beta_1_lower_newspaper:.4f}, {beta_1_upper_newspaper:.4f})')\n"
   ]
  },
  {
   "cell_type": "code",
   "execution_count": 76,
   "id": "243bfbf9",
   "metadata": {},
   "outputs": [
    {
     "name": "stdout",
     "output_type": "stream",
     "text": [
      "t0 newspaper: 19.8761\n",
      "t1 newspaper: 3.2996\n"
     ]
    }
   ],
   "source": [
    "t0_newspaper = beta_0_newspaper / SE_newspaper\n",
    "t1_newspaper = beta_1_newspaper / SE_beta_1_newspaper\n",
    "print(f't0 newspaper: {t0_newspaper:.4f}')\n",
    "print(f't1 newspaper: {t1_newspaper:.4f}')"
   ]
  },
  {
   "cell_type": "code",
   "execution_count": 77,
   "id": "bd9497c7",
   "metadata": {},
   "outputs": [
    {
     "name": "stdout",
     "output_type": "stream",
     "text": [
      "P-value beta_0 newspaper: 0.0000000000\n",
      "P-value beta_1 newspaper: 0.0011481959\n"
     ]
    }
   ],
   "source": [
    "p_value_0_newspaper = 2 * (1 - stats.t.cdf(np.abs(t0_newspaper), df=n - p))\n",
    "print(f'P-value beta_0 newspaper: {p_value_0_newspaper:.10f}')\n",
    "\n",
    "p_value_1_newspaper = 2 * (1 - stats.t.cdf(np.abs(t1_newspaper), df=n - p))\n",
    "print(f'P-value beta_1 newspaper: {p_value_1_newspaper:.10f}')"
   ]
  },
  {
   "cell_type": "code",
   "execution_count": 78,
   "id": "cbfaed5f-f044-43e4-90b7-29144d8b8f0f",
   "metadata": {},
   "outputs": [
    {
     "name": "stdout",
     "output_type": "stream",
     "text": [
      "Intercepto radio (beta_0): 9.3116\n",
      "Coeficiente radio (beta_1): 0.2025\n",
      "RSS radio: 3618.4795\n",
      "RSE radio: 18.2751\n",
      "SE(beta_0) radio: 0.5629\n",
      "SE(beta_1) radio: 0.0204\n"
     ]
    }
   ],
   "source": [
    "pd.read_csv('Advertising.csv')\n",
    "x_radio = df['radio'].values\n",
    "y = df['sales'].values      \n",
    "n = len(x_radio)\n",
    "p = 2\n",
    "lr.fit(x_radio.reshape(-1, 1), y)\n",
    "beta_0_radio = lr.intercept_\n",
    "beta_1_radio = lr.coef_[0]\n",
    "print(f'Intercepto radio (beta_0): {beta_0_radio:.4f}')\n",
    "print(f'Coeficiente radio (beta_1): {beta_1_radio:.4f}')\n",
    "y_pred_radio = lr.predict(x_radio.reshape(-1, 1))\n",
    "RSS_radio = sum((y - y_pred_radio) ** 2)\n",
    "print(f'RSS radio: {RSS_radio:.4f}')\n",
    "RSE_radio = (RSS_radio / (n - p))\n",
    "print(f'RSE radio: {RSE_radio:.4f}')\n",
    "x_2_radio = np.mean(x_radio)*np.mean(x_radio)   \n",
    "x_mean_radio = np.mean(x_radio)\n",
    "SE_radio = (RSE_radio *(1/n + (x_2_radio / sum((x_radio - x_mean_radio)**2))))**0.5\n",
    "print(f'SE(beta_0) radio: {SE_radio:.4f}')\n",
    "SE_beta_1_radio = (RSE_radio / sum((x_radio - x_mean_radio)**2))**0.5\n",
    "print(f'SE(beta_1) radio: {SE_beta_1_radio:.4f}')"
   ]
  },
  {
   "cell_type": "code",
   "execution_count": 79,
   "id": "5e182bc6",
   "metadata": {},
   "outputs": [
    {
     "name": "stdout",
     "output_type": "stream",
     "text": [
      "Intervalo de confianza beta_0 radio: (8.1858, 10.4374)\n",
      "Intervalo de confianza beta_1 radio: (0.1617, 0.2433)\n"
     ]
    }
   ],
   "source": [
    "beta_0_lower_radio = beta_0_radio - 2*SE_radio\n",
    "beta_0_upper_radio = beta_0_radio + 2*SE_radio\n",
    "print(f'Intervalo de confianza beta_0 radio: ({beta_0_lower_radio:.4f}, {beta_0_upper_radio:.4f})')\n",
    "beta_1_lower_radio = beta_1_radio - 2*SE_beta_1_radio\n",
    "beta_1_upper_radio = beta_1_radio + 2*SE_beta_1_radio\n",
    "print(f'Intervalo de confianza beta_1 radio: ({beta_1_lower_radio:.4f}, {beta_1_upper_radio:.4f})')"
   ]
  },
  {
   "cell_type": "code",
   "execution_count": 80,
   "id": "80a0e082",
   "metadata": {},
   "outputs": [
    {
     "name": "stdout",
     "output_type": "stream",
     "text": [
      "t0 radio: 16.5422\n",
      "t1 radio: 9.9208\n"
     ]
    }
   ],
   "source": [
    "t0_radio = beta_0_radio / SE_radio\n",
    "t1_radio = beta_1_radio / SE_beta_1_radio\n",
    "print(f't0 radio: {t0_radio:.4f}')\n",
    "print(f't1 radio: {t1_radio:.4f}')"
   ]
  },
  {
   "cell_type": "code",
   "execution_count": 81,
   "id": "071af2e8",
   "metadata": {},
   "outputs": [
    {
     "name": "stdout",
     "output_type": "stream",
     "text": [
      "P-value beta_0 radio: 0.0000000000\n",
      "P-value beta_1 radio: 0.0000000000\n"
     ]
    }
   ],
   "source": [
    "p_value_0_radio = 2 * (1 - stats.t.cdf(np.abs(t0_radio), df=n - p))\n",
    "print(f'P-value beta_0 radio: {p_value_0_radio:.10f}')\n",
    "\n",
    "p_value_1_radio = 2 * (1 - stats.t.cdf(np.abs(t1_radio), df=n - p))\n",
    "print(f'P-value beta_1 radio: {p_value_1_radio:.10f}')"
   ]
  },
  {
   "cell_type": "markdown",
   "id": "556988ae-3656-428d-817b-76f9e1534f46",
   "metadata": {},
   "source": [
    "## Regresión lineal múltiple"
   ]
  },
  {
   "cell_type": "markdown",
   "id": "943698d8-7f84-4245-8be3-e4c8f34be5da",
   "metadata": {},
   "source": [
    "En lugar de hacer una regresión para cada factor independiente, quizás se puede extender el modelo para que tenga varios factores dentro:\n",
    "\n",
    "$$ Y = \\beta_0 + \\beta_1 X_1 + \\beta_2 X_2 + ... + \\beta_p X_p + \\epsilon $$\n",
    "\n",
    "Para nuestro ejemplo de publicidad:\n",
    "\n",
    "$$ \\text{sales} = \\beta_0 + \\beta_1 (\\text{TV}) + \\beta_2 (\\text{radio}) + \\beta_3 (\\text{newspaper}) + \\epsilon $$"
   ]
  },
  {
   "cell_type": "markdown",
   "id": "df8cd89a-0c25-4e1d-9213-292807e17ccf",
   "metadata": {},
   "source": [
    "Utiliza la librería `statsmodels` para realizar la regresión. Por defecto la librería statsmodels no toma en cuenta el intercepto ($\\beta_0$), por lo que se tendrá que agregar una columna de unos de tamaño *n* a la matriz X.\n",
    "\n",
    "`import statsmodels.api as sm`\n",
    "\n",
    "`ols = sm.OLS(Y, X)`\n",
    "\n",
    "`results = ols.fit()`\n",
    "\n",
    "`results.summary()`"
   ]
  },
  {
   "cell_type": "code",
   "execution_count": 82,
   "id": "022522eb-2c18-435e-b51b-4ed5a5c54669",
   "metadata": {},
   "outputs": [],
   "source": [
    "import statsmodels.api as sm"
   ]
  },
  {
   "cell_type": "code",
   "execution_count": 83,
   "id": "e9c9f7ea-0b4c-4f54-922e-6d1222da5da5",
   "metadata": {},
   "outputs": [
    {
     "name": "stdout",
     "output_type": "stream",
     "text": [
      "                            OLS Regression Results                            \n",
      "==============================================================================\n",
      "Dep. Variable:                      y   R-squared:                       0.897\n",
      "Model:                            OLS   Adj. R-squared:                  0.896\n",
      "Method:                 Least Squares   F-statistic:                     570.3\n",
      "Date:                Mon, 01 Sep 2025   Prob (F-statistic):           1.58e-96\n",
      "Time:                        11:41:22   Log-Likelihood:                -386.18\n",
      "No. Observations:                 200   AIC:                             780.4\n",
      "Df Residuals:                     196   BIC:                             793.6\n",
      "Df Model:                           3                                         \n",
      "Covariance Type:            nonrobust                                         \n",
      "==============================================================================\n",
      "                 coef    std err          t      P>|t|      [0.025      0.975]\n",
      "------------------------------------------------------------------------------\n",
      "const          2.9389      0.312      9.422      0.000       2.324       3.554\n",
      "x1             0.0458      0.001     32.809      0.000       0.043       0.049\n",
      "x2             0.1885      0.009     21.893      0.000       0.172       0.206\n",
      "x3            -0.0010      0.006     -0.177      0.860      -0.013       0.011\n",
      "==============================================================================\n",
      "Omnibus:                       60.414   Durbin-Watson:                   2.084\n",
      "Prob(Omnibus):                  0.000   Jarque-Bera (JB):              151.241\n",
      "Skew:                          -1.327   Prob(JB):                     1.44e-33\n",
      "Kurtosis:                       6.332   Cond. No.                         454.\n",
      "==============================================================================\n",
      "\n",
      "Notes:\n",
      "[1] Standard Errors assume that the covariance matrix of the errors is correctly specified.\n"
     ]
    }
   ],
   "source": [
    "pd.read_csv('Advertising.csv')\n",
    "x_multiple = [np.ones([n,1]),df['TV'],df['radio'],df['newspaper']]\n",
    "y = df['sales'].values\n",
    "X_multiple = np.column_stack(x_multiple)\n",
    "ols = sm.OLS(y, X_multiple)\n",
    "results = ols.fit()\n",
    "print(results.summary())"
   ]
  },
  {
   "cell_type": "code",
   "execution_count": 84,
   "id": "853a1007",
   "metadata": {},
   "outputs": [
    {
     "name": "stdout",
     "output_type": "stream",
     "text": [
      "                            OLS Regression Results                            \n",
      "==============================================================================\n",
      "Dep. Variable:                      y   R-squared:                       0.968\n",
      "Model:                            OLS   Adj. R-squared:                  0.967\n",
      "Method:                 Least Squares   F-statistic:                     1963.\n",
      "Date:                Mon, 01 Sep 2025   Prob (F-statistic):          6.68e-146\n",
      "Time:                        11:41:22   Log-Likelihood:                -270.14\n",
      "No. Observations:                 200   AIC:                             548.3\n",
      "Df Residuals:                     196   BIC:                             561.5\n",
      "Df Model:                           3                                         \n",
      "Covariance Type:            nonrobust                                         \n",
      "==============================================================================\n",
      "                 coef    std err          t      P>|t|      [0.025      0.975]\n",
      "------------------------------------------------------------------------------\n",
      "const          6.7502      0.248     27.233      0.000       6.261       7.239\n",
      "x1             0.0191      0.002     12.699      0.000       0.016       0.022\n",
      "x2             0.0289      0.009      3.241      0.001       0.011       0.046\n",
      "x3             0.0011   5.24e-05     20.727      0.000       0.001       0.001\n",
      "==============================================================================\n",
      "Omnibus:                      128.132   Durbin-Watson:                   2.224\n",
      "Prob(Omnibus):                  0.000   Jarque-Bera (JB):             1183.719\n",
      "Skew:                          -2.323   Prob(JB):                    9.09e-258\n",
      "Kurtosis:                      13.975   Cond. No.                     1.80e+04\n",
      "==============================================================================\n",
      "\n",
      "Notes:\n",
      "[1] Standard Errors assume that the covariance matrix of the errors is correctly specified.\n",
      "[2] The condition number is large, 1.8e+04. This might indicate that there are\n",
      "strong multicollinearity or other numerical problems.\n"
     ]
    }
   ],
   "source": [
    "pd.read_csv('Advertising.csv')\n",
    "x_multiple2 = [np.ones([n,1]),df['TV'],df['radio'],df['TV']*df['radio']]\n",
    "y = df['sales'].values\n",
    "X_multiple2 = np.column_stack(x_multiple2)\n",
    "ols2 = sm.OLS(y, X_multiple2)\n",
    "results2 = ols2.fit()\n",
    "print(results2.summary())"
   ]
  },
  {
   "cell_type": "code",
   "execution_count": 85,
   "id": "00053e3c",
   "metadata": {},
   "outputs": [
    {
     "name": "stdout",
     "output_type": "stream",
     "text": [
      "                            OLS Regression Results                            \n",
      "==============================================================================\n",
      "Dep. Variable:                      y   R-squared:                       0.969\n",
      "Model:                            OLS   Adj. R-squared:                  0.968\n",
      "Method:                 Least Squares   F-statistic:                     993.3\n",
      "Date:                Mon, 01 Sep 2025   Prob (F-statistic):          3.68e-142\n",
      "Time:                        11:41:22   Log-Likelihood:                -267.49\n",
      "No. Observations:                 200   AIC:                             549.0\n",
      "Df Residuals:                     193   BIC:                             572.1\n",
      "Df Model:                           6                                         \n",
      "Covariance Type:            nonrobust                                         \n",
      "==============================================================================\n",
      "                 coef    std err          t      P>|t|      [0.025      0.975]\n",
      "------------------------------------------------------------------------------\n",
      "const          6.4602      0.318     20.342      0.000       5.834       7.087\n",
      "x1             0.0203      0.002     12.633      0.000       0.017       0.024\n",
      "x2             0.0229      0.011      2.009      0.046       0.000       0.045\n",
      "x3             0.0170      0.010      1.691      0.092      -0.003       0.037\n",
      "x4             0.0011   5.72e-05     19.930      0.000       0.001       0.001\n",
      "x5         -7.971e-05   3.58e-05     -2.227      0.027      -0.000   -9.12e-06\n",
      "x6            -0.0001      0.000     -0.464      0.643      -0.001       0.000\n",
      "==============================================================================\n",
      "Omnibus:                      111.385   Durbin-Watson:                   2.222\n",
      "Prob(Omnibus):                  0.000   Jarque-Bera (JB):              767.483\n",
      "Skew:                          -2.046   Prob(JB):                    2.20e-167\n",
      "Kurtosis:                      11.681   Cond. No.                     3.80e+04\n",
      "==============================================================================\n",
      "\n",
      "Notes:\n",
      "[1] Standard Errors assume that the covariance matrix of the errors is correctly specified.\n",
      "[2] The condition number is large, 3.8e+04. This might indicate that there are\n",
      "strong multicollinearity or other numerical problems.\n"
     ]
    }
   ],
   "source": [
    "pd.read_csv('Advertising.csv')\n",
    "x_multiple3 = [np.ones([n,1]),df['TV'],df['radio'], df['newspaper'],df['TV']*df['radio'],df['TV']*df['newspaper'],df['newspaper']*df['radio']]\n",
    "y = df['sales'].values\n",
    "X_multiple3 = np.column_stack(x_multiple3)\n",
    "ols3 = sm.OLS(y, X_multiple3)\n",
    "results3 = ols3.fit()\n",
    "print(results3.summary())"
   ]
  },
  {
   "cell_type": "markdown",
   "id": "df0f403f-b246-4706-a4c6-5f17be224048",
   "metadata": {},
   "source": [
    "¿Qué diferencias puedes observar entre los *p-values* de una regresión múltiple y los encontrados en las regresiones simples? ¿Por qué crees que existen estas diferencias?"
   ]
  },
  {
   "cell_type": "markdown",
   "id": "2b5e514b",
   "metadata": {},
   "source": [
    "Al hacerlo nos damos cuenta que los que intervienen expecificamente con newspaper tiene un p-value mas alto que los demás, podria ser porque con periodico no hay una relacion tan directa como si lo hay con TV y radio"
   ]
  },
  {
   "cell_type": "markdown",
   "id": "3898858d-5dda-42ae-b458-b5e7fcd2df76",
   "metadata": {},
   "source": [
    "## Referencia\n",
    "\n",
    "James, G., Witten, D., Hastie, T., Tibshirani, R.,, Taylor, J. (2023). An Introduction to Statistical Learning with Applications in Python. Cham: Springer. ISBN: 978-3-031-38746-3"
   ]
  },
  {
   "cell_type": "markdown",
   "id": "8a72b870-2174-4ea9-adac-260d6aa97067",
   "metadata": {},
   "source": [
    "## Addendum"
   ]
  },
  {
   "cell_type": "markdown",
   "id": "8dacc515-40ee-4ac8-a6f6-9e1a22b97313",
   "metadata": {},
   "source": [
    "Para calcular los *p-values* de los parámetros sin `statsmodels`:\n",
    "1. Calcular RSS\n",
    "2. Calcular RSE\n",
    "3. `var_beta = np.linalg.inv(X.T @ X) * rse**2` (X con columna de intercepto)\n",
    "4. `std_beta = np.sqrt(var_beta.diagonal())` El orden de los valores corresponde al orden de los factores en las columnas de la matriz $X$.\n",
    "5. Calcular *estadístico t*\n",
    "6. Calcular *p-value*"
   ]
  }
 ],
 "metadata": {
  "kernelspec": {
   "display_name": "base",
   "language": "python",
   "name": "python3"
  },
  "language_info": {
   "codemirror_mode": {
    "name": "ipython",
    "version": 3
   },
   "file_extension": ".py",
   "mimetype": "text/x-python",
   "name": "python",
   "nbconvert_exporter": "python",
   "pygments_lexer": "ipython3",
   "version": "3.12.7"
  }
 },
 "nbformat": 4,
 "nbformat_minor": 5
}
